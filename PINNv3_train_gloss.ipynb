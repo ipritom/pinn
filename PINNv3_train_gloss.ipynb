{
 "cells": [
  {
   "cell_type": "markdown",
   "metadata": {},
   "source": [
    "Here we will not only predict the coordinates of the projectile. We will also calculate the value of *g* with the predicted output and use it as a loss function. "
   ]
  },
  {
   "cell_type": "code",
   "execution_count": 1,
   "metadata": {},
   "outputs": [],
   "source": [
    "import torch \n",
    "import torch.nn as nn\n",
    "import torch.nn.functional as F\n",
    "from torch.utils.data import Dataset, DataLoader\n",
    "import numpy as np\n",
    "import random"
   ]
  },
  {
   "cell_type": "code",
   "execution_count": 2,
   "metadata": {},
   "outputs": [],
   "source": [
    "SCALE_FACTOR = 100\n",
    "BATCH_SIZE = 64"
   ]
  },
  {
   "cell_type": "code",
   "execution_count": 3,
   "metadata": {},
   "outputs": [],
   "source": [
    "def get_pos(v:float, theta:float, t:float, return_tensor=True):\n",
    "    \"\"\"This Return the (x,y) cord for the given projectile parameter.\n",
    "\n",
    "    Args:\n",
    "        v (float): velocity in m/s^2\n",
    "        theta (float): angle of  projectile in radian\n",
    "        t (float): time in second\n",
    "\n",
    "    Returns:\n",
    "        x, y\n",
    "    \"\"\"\n",
    "    x = v*np.cos(theta)*t\n",
    "    y = -0.5*9.8*t**2 + v*np.sin(theta)*t\n",
    "\n",
    "    if return_tensor:\n",
    "        return torch.tensor([x,y], dtype=torch.float)\n",
    "    \n",
    "    return x, y"
   ]
  },
  {
   "cell_type": "code",
   "execution_count": 4,
   "metadata": {},
   "outputs": [],
   "source": [
    "def get_timeOfFlight(v0:float, theta:float):\n",
    "    \"\"\"_summary_\n",
    "\n",
    "    Args:\n",
    "        v0 (float): velocity m/s^2\n",
    "        theta (float): angle in rad\n",
    "\n",
    "    Returns:\n",
    "        T (float): time of flight\n",
    "    \"\"\"\n",
    "    g = 9.8\n",
    "    T = 2*(v0*np.sin(theta))/g\n",
    "    \n",
    "    return T"
   ]
  },
  {
   "cell_type": "code",
   "execution_count": 5,
   "metadata": {},
   "outputs": [],
   "source": [
    "def get_sample_data():\n",
    "    \"\"\"Generate Sample Data\n",
    "\n",
    "    Returns:\n",
    "        [v0, theta, t] : input where v0 and t is scalled with a scale factor.\n",
    "        [x, y] : output are scalled with a scale factor.\n",
    "        [T] : time of flight\n",
    "\n",
    "    \"\"\"\n",
    "    g = 9.8\n",
    "    v0 = np.random.randint(1,100)\n",
    "    theta = np.random.randint(1,91)\n",
    "    theta = np.deg2rad(theta)\n",
    "    \n",
    "    T = 2*(v0*np.sin(theta)/g)\n",
    "    # print(T, v0, theta)\n",
    "    \n",
    "    if T>0.1:\n",
    "        t = np.random.uniform(0, T)\n",
    "    else:\n",
    "        t = T\n",
    "\n",
    "    x, y = get_pos(v0, theta, t, return_tensor=False)\n",
    "    # return torch.tensor([v0, theta, t], dtype=torch.float), torch.tensor([x,y], dtype=torch.float)\n",
    "    return [v0/SCALE_FACTOR, theta, t/SCALE_FACTOR], [x/SCALE_FACTOR,y/SCALE_FACTOR], [T]"
   ]
  },
  {
   "cell_type": "code",
   "execution_count": 6,
   "metadata": {},
   "outputs": [],
   "source": [
    "# get_sample_data()"
   ]
  },
  {
   "cell_type": "code",
   "execution_count": 7,
   "metadata": {},
   "outputs": [],
   "source": [
    "def plain_equation_g(v0, alpha, t, y):\n",
    "    \"\"\"Calculate g with equation\n",
    "\n",
    "    Args:\n",
    "        v (_type_): _description_\n",
    "        alpha (_type_): _description_\n",
    "        t (_type_): _description_\n",
    "        y (_type_): _description_\n",
    "    \"\"\"\n",
    "    g_calc = 2 * ( v0 * np.sin(alpha) * t - y) / (t**2)\n",
    "    return g_calc"
   ]
  },
  {
   "cell_type": "code",
   "execution_count": 8,
   "metadata": {},
   "outputs": [],
   "source": [
    "def get_g_value(inp,pred):\n",
    "# extracting values from tensor column axis\n",
    "    if SCALE_FACTOR==0 or SCALE_FACTOR==1: #NO SCALING\n",
    "        v0 = inp[:,0]\n",
    "        alpha = inp[:,1]\n",
    "        t = inp[:,2]\n",
    "        y_pred = pred[:, 1]\n",
    "    else:\n",
    "        v0 = inp[:,0]*SCALE_FACTOR\n",
    "        alpha = inp[:,1]\n",
    "        t = inp[:,2]*SCALE_FACTOR\n",
    "        y_pred = pred[:, 1]*SCALE_FACTOR\n",
    "    \n",
    "    # Calculate g using the formula: g = -2(y - v0 * sin(alpha) * t) / (t^2)\n",
    "    g_calc = 2 * ( v0 * torch.sin(alpha) * t - y_pred) / (t**2)\n",
    "    # print(\"inside fnc\", g_calc)\n",
    "    # return torch.mean((0.096-g_calc/100))**2\n",
    "\n",
    "    return g_calc/SCALE_FACTOR\n"
   ]
  },
  {
   "cell_type": "code",
   "execution_count": 9,
   "metadata": {},
   "outputs": [],
   "source": [
    "class ProjectileData(Dataset):\n",
    "    def __init__(self, data_size=1000):\n",
    "        # datata generation \n",
    "        X_train = []\n",
    "        Y_train = []\n",
    "        T = []\n",
    "        for _ in range(data_size):\n",
    "            x_t, y_t, t = get_sample_data()\n",
    "            X_train.append(x_t)\n",
    "            Y_train.append(y_t)\n",
    "            T.append(t)\n",
    "\n",
    "        self.X_train = torch.tensor(X_train, dtype=torch.float)\n",
    "        self.Y_train = torch.tensor(Y_train, dtype=torch.float)\n",
    "        self.T = torch.tensor(T, dtype=torch.float)\n",
    "    \n",
    "    def __len__(self):\n",
    "        return self.X_train.shape[0]\n",
    "    \n",
    "    def __getitem__(self, index):\n",
    "        # return self.X_train[index]/SCALE_FACTOR, self.Y_train[index]/SCALE_FACTOR, self.T[index]\n",
    "        return self.X_train[index], self.Y_train[index], self.T[index]"
   ]
  },
  {
   "cell_type": "code",
   "execution_count": 10,
   "metadata": {},
   "outputs": [],
   "source": [
    "dataset = ProjectileData(data_size=6400)"
   ]
  },
  {
   "cell_type": "code",
   "execution_count": 11,
   "metadata": {},
   "outputs": [],
   "source": [
    "train_dataloader = DataLoader(dataset=dataset, batch_size=BATCH_SIZE, shuffle=True)"
   ]
  },
  {
   "cell_type": "code",
   "execution_count": 12,
   "metadata": {},
   "outputs": [
    {
     "data": {
      "text/plain": [
       "device(type='cuda')"
      ]
     },
     "execution_count": 12,
     "metadata": {},
     "output_type": "execute_result"
    }
   ],
   "source": [
    "device = torch.device(\"cuda\" if torch.cuda.is_available() else \"cpu\")\n",
    "device"
   ]
  },
  {
   "cell_type": "markdown",
   "metadata": {},
   "source": [
    "### Model Definition"
   ]
  },
  {
   "cell_type": "code",
   "execution_count": 13,
   "metadata": {},
   "outputs": [],
   "source": [
    "class PINNv3(nn.Module):\n",
    "    def __init__(self, inp_size, out_size) -> None:\n",
    "        super().__init__()\n",
    "        self.layer1 = nn.Linear(inp_size, 128)\n",
    "        self.norm1 = nn.LayerNorm(128)\n",
    "        self.layer2 = nn.Linear(128, 64)\n",
    "        self.norm2 = nn.LayerNorm(64)\n",
    "        self.layer3 = nn.Linear(64, out_size)\n",
    "\n",
    "    def forward(self, x):\n",
    "        x = F.tanh(self.norm1(self.layer1(x)))\n",
    "        x = F.tanh(self.norm2(self.layer2(x)))\n",
    "\n",
    "        return self.layer3(x)"
   ]
  },
  {
   "cell_type": "markdown",
   "metadata": {},
   "source": [
    "In this training procedure we will not only calculate the error between prediction, we will also use the predicted output to predict the *g* value and then we will calculate the error between predicted *g'* and actual *g*. Let's call it g-loss. "
   ]
  },
  {
   "cell_type": "code",
   "execution_count": 15,
   "metadata": {},
   "outputs": [
    {
     "data": {
      "text/plain": [
       "SmoothL1Loss()"
      ]
     },
     "execution_count": 15,
     "metadata": {},
     "output_type": "execute_result"
    }
   ],
   "source": [
    "model = PINNv3(3,2)\n",
    "optimizer = torch.optim.SGD(model.parameters(), lr=0.001)\n",
    "loss_mse = nn.MSELoss()\n",
    "# loss_g_mse = nn.MSELoss()\n",
    "loss_g_mse = nn.SmoothL1Loss()\n",
    "\n",
    "# loss_fn = nn.MSELoss()\n",
    "\n",
    "\n",
    "model.to(device)\n",
    "loss_mse.to(device)\n",
    "loss_g_mse.to(device)"
   ]
  },
  {
   "cell_type": "code",
   "execution_count": 16,
   "metadata": {},
   "outputs": [
    {
     "data": {
      "text/plain": [
       "<All keys matched successfully>"
      ]
     },
     "execution_count": 16,
     "metadata": {},
     "output_type": "execute_result"
    }
   ],
   "source": [
    "# load pretrained model\n",
    "# model.load_state_dict(torch.load(\"checkpoint/PINNv2_model_ep10000_1721072586.pt\"))\n",
    "model.load_state_dict(torch.load(\"checkpoint/PINNv3_model_ep10000_1722108340.pt\"))\n"
   ]
  },
  {
   "cell_type": "code",
   "execution_count": 17,
   "metadata": {},
   "outputs": [
    {
     "data": {
      "text/plain": [
       "tensor([0.0980, 0.0980, 0.0980, 0.0980, 0.0980, 0.0980, 0.0980, 0.0980, 0.0980,\n",
       "        0.0980, 0.0980, 0.0980, 0.0980, 0.0980, 0.0980, 0.0980, 0.0980, 0.0980,\n",
       "        0.0980, 0.0980, 0.0980, 0.0980, 0.0980, 0.0980, 0.0980, 0.0980, 0.0980,\n",
       "        0.0980, 0.0980, 0.0980, 0.0980, 0.0980, 0.0980, 0.0980, 0.0980, 0.0980,\n",
       "        0.0980, 0.0980, 0.0980, 0.0980, 0.0980, 0.0980, 0.0980, 0.0980, 0.0980,\n",
       "        0.0980, 0.0980, 0.0980, 0.0980, 0.0980, 0.0980, 0.0980, 0.0980, 0.0980,\n",
       "        0.0980, 0.0980, 0.0980, 0.0980, 0.0980, 0.0980, 0.0980, 0.0980, 0.0980,\n",
       "        0.0980])"
      ]
     },
     "execution_count": 17,
     "metadata": {},
     "output_type": "execute_result"
    }
   ],
   "source": [
    "g = torch.tensor([0.0980]*BATCH_SIZE)\n",
    "g"
   ]
  },
  {
   "cell_type": "code",
   "execution_count": 18,
   "metadata": {},
   "outputs": [],
   "source": [
    "# x,y,_ = next(iter(train_dataloader))\n"
   ]
  },
  {
   "cell_type": "code",
   "execution_count": 19,
   "metadata": {},
   "outputs": [],
   "source": [
    "# loss_g_l1 = nn.SmoothL1Loss()"
   ]
  },
  {
   "cell_type": "code",
   "execution_count": 20,
   "metadata": {},
   "outputs": [],
   "source": [
    "# model.eval()\n",
    "# with torch.no_grad():\n",
    "#     y_ = model(x.to(device))\n",
    "\n",
    "#     g_ = get_g_value(x.to(device),y_)\n",
    "#     le = loss_mse(y.to(device), y_)\n",
    "#     lg = loss_g_mse(g.to(device),g_)\n",
    "#     l1g = loss_g_l1(g.cuda(), g_)\n",
    "#     print(le, lg, l1g)\n",
    "    "
   ]
  },
  {
   "cell_type": "code",
   "execution_count": 21,
   "metadata": {},
   "outputs": [],
   "source": [
    "# g_"
   ]
  },
  {
   "cell_type": "code",
   "execution_count": 22,
   "metadata": {},
   "outputs": [],
   "source": [
    "# torch.abs(torch.subtract(g.cuda(),g_)).square().mean()"
   ]
  },
  {
   "cell_type": "markdown",
   "metadata": {},
   "source": [
    "### Training with Physics Information"
   ]
  },
  {
   "cell_type": "code",
   "execution_count": 23,
   "metadata": {},
   "outputs": [],
   "source": [
    "# g.to(device)"
   ]
  },
  {
   "cell_type": "code",
   "execution_count": 24,
   "metadata": {},
   "outputs": [
    {
     "name": "stdout",
     "output_type": "stream",
     "text": [
      "100|1000 LOSS:10.37902307510376 mse 1.1082396507263184 phy_loss 10.004196853637695552626\n",
      "\n",
      "Validation at 100\n",
      "Input 99 51.0 13  Output tensor([428.7115,  53.6730], device='cuda:0')  Truth tensor([809.9354, 172.0869])\n",
      "\n",
      "\n",
      "162|1000 LOSS:6.534912776947022 mse 0.950272798538208 phy_loss 10.000086067199707864\r"
     ]
    },
    {
     "ename": "KeyboardInterrupt",
     "evalue": "",
     "output_type": "error",
     "traceback": [
      "\u001b[0;31m---------------------------------------------------------------------------\u001b[0m",
      "\u001b[0;31mKeyboardInterrupt\u001b[0m                         Traceback (most recent call last)",
      "Cell \u001b[0;32mIn[24], line 26\u001b[0m\n\u001b[1;32m     24\u001b[0m \u001b[38;5;66;03m# calculate mse loss and phy_loss (with clip)\u001b[39;00m\n\u001b[1;32m     25\u001b[0m mse_loss  \u001b[38;5;241m=\u001b[39m loss_mse(y, y_)\u001b[38;5;241m.\u001b[39mfloat()\n\u001b[0;32m---> 26\u001b[0m phy_loss \u001b[38;5;241m=\u001b[39m loss_g_mse(\u001b[43mg\u001b[49m\u001b[38;5;241;43m.\u001b[39;49m\u001b[43mto\u001b[49m\u001b[43m(\u001b[49m\u001b[43mdevice\u001b[49m\u001b[43m)\u001b[49m,g_)\u001b[38;5;241m.\u001b[39mclip(\u001b[38;5;28mmin\u001b[39m\u001b[38;5;241m=\u001b[39m\u001b[38;5;241m-\u001b[39m\u001b[38;5;241m0.12\u001b[39m,\u001b[38;5;28mmax\u001b[39m\u001b[38;5;241m=\u001b[39m\u001b[38;5;241m10\u001b[39m)\n\u001b[1;32m     27\u001b[0m \u001b[38;5;66;03m# phy_loss = loss_g_mse(g.to(device),g_)\u001b[39;00m\n\u001b[1;32m     29\u001b[0m loss \u001b[38;5;241m=\u001b[39m mse_loss\u001b[38;5;241m+\u001b[39mphy_loss\n",
      "\u001b[0;31mKeyboardInterrupt\u001b[0m: "
     ]
    }
   ],
   "source": [
    "# training loop \n",
    "EPOCH = 1000\n",
    "history  = []\n",
    "\n",
    "for epoch in range(1, EPOCH+1):\n",
    "\n",
    "    # set model into training mode\n",
    "    model.train()\n",
    "    running_loss = 0.0\n",
    "    count = 0\n",
    "    for i, (inp, out, _) in  enumerate(train_dataloader):\n",
    "        optimizer.zero_grad()\n",
    "\n",
    "        # dataset data\n",
    "        x = inp.cuda()\n",
    "        y = out.cuda()\n",
    "\n",
    "        # forward pass and predict output\n",
    "        y_ = model(x)\n",
    "\n",
    "        # calculate physical value\n",
    "        g_ = get_g_value(inp=x, pred=y_).float()\n",
    "\n",
    "        # calculate mse loss and phy_loss (with clip)\n",
    "        mse_loss  = loss_mse(y, y_).float()\n",
    "        phy_loss = loss_g_mse(g.to(device),g_).clip(min=-0.12,max=10)\n",
    "        # phy_loss = loss_g_mse(g.to(device),g_)\n",
    "    \n",
    "        loss = mse_loss+phy_loss\n",
    "        \n",
    "        \n",
    "        # backprop\n",
    "        loss.backward()\n",
    "        optimizer.step()\n",
    "        running_loss += loss.item()\n",
    "        # print(loss.item(), mse_loss.item(), phy_loss.item())\n",
    "        # print(y,y_)\n",
    "        print(f\"{epoch}|{EPOCH} LOSS:{running_loss/len(train_dataloader)} mse {mse_loss.item()} phy_loss {phy_loss.item()}\", end=\"\\r\")\n",
    "\n",
    "        \n",
    "    # break\n",
    "    if epoch%100==0:\n",
    "        print(\"\\n\")\n",
    "        # mini validation\n",
    "        model.eval()\n",
    "        val_loss = 0.0\n",
    "        with torch.no_grad():\n",
    "            v, alpha, t = 99, 51 ,13\n",
    "            alpha = np.deg2rad(alpha)\n",
    "            print(\"Validation at\", epoch)\n",
    "            validation_sample = torch.tensor([v/SCALE_FACTOR, alpha, t/SCALE_FACTOR], dtype=torch.float)\n",
    "            pred_y = model(validation_sample.to(device))*SCALE_FACTOR\n",
    "            val_y = get_pos(v=v, theta=alpha, t=t)\n",
    "            print(\"Input\", v, np.rad2deg(alpha), t, \" Output\", pred_y, \" Truth\", val_y)\n",
    "        \n",
    "        print(f\"\\n\")\n",
    "\n",
    "    history.append(running_loss/len(train_dataloader))\n"
   ]
  },
  {
   "cell_type": "markdown",
   "metadata": {},
   "source": [
    "## Obesrvation\n",
    "The overall loss functions does not improve and the physics loss (g-loss) does not improve.\n",
    "\n",
    "## Question \n",
    "Is the neural network actually physics informed? "
   ]
  },
  {
   "cell_type": "code",
   "execution_count": 24,
   "metadata": {},
   "outputs": [],
   "source": [
    "import matplotlib.pyplot as plt"
   ]
  },
  {
   "cell_type": "code",
   "execution_count": 25,
   "metadata": {},
   "outputs": [
    {
     "data": {
      "text/plain": [
       "[<matplotlib.lines.Line2D at 0x7f5e210a8c10>]"
      ]
     },
     "execution_count": 25,
     "metadata": {},
     "output_type": "execute_result"
    },
    {
     "data": {
      "image/png": "[encoded data removed]",
      "text/plain": [
       "<Figure size 640x480 with 1 Axes>"
      ]
     },
     "metadata": {},
     "output_type": "display_data"
    }
   ],
   "source": [
    "plt.plot(history)"
   ]
  },
  {
   "cell_type": "code",
   "execution_count": null,
   "metadata": {},
   "outputs": [],
   "source": []
  },
  {
   "cell_type": "code",
   "execution_count": 21,
   "metadata": {},
   "outputs": [],
   "source": [
    "# import time"
   ]
  },
  {
   "cell_type": "code",
   "execution_count": 22,
   "metadata": {},
   "outputs": [],
   "source": [
    "# torch.save(model.state_dict(), f\"checkpoint/{model._get_name()}_gloss_model_ep{EPOCH}_{int(time.time())}.pt\")"
   ]
  },
  {
   "cell_type": "code",
   "execution_count": null,
   "metadata": {},
   "outputs": [],
   "source": []
  }
 ],
 "metadata": {
  "kernelspec": {
   "display_name": "drl",
   "language": "python",
   "name": "python3"
  },
  "language_info": {
   "codemirror_mode": {
    "name": "ipython",
    "version": 3
   },
   "file_extension": ".py",
   "mimetype": "text/x-python",
   "name": "python",
   "nbconvert_exporter": "python",
   "pygments_lexer": "ipython3",
   "version": "3.10.13"
  }
 },
 "nbformat": 4,
 "nbformat_minor": 2
}
