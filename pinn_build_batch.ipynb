{
 "cells": [
  {
   "cell_type": "markdown",
   "metadata": {},
   "source": [
    "## Experiement on Physics Informed Neural Network \n",
    "\n",
    "In this notebook, a neural network is trained to predict projecttile motion in a 2D environment. \n",
    "\n",
    "In this taks - \n",
    "* We input throwing velocity (initial velocity - v0), throwing angle (theta), and time. If we know the v0, and alpha, we can calulate the coordinate of an object in 2D with phyics equation. \n",
    "\n",
    "\n",
    "### Projectile Motion Equations\n",
    "\n",
    "Given:\n",
    "- \\( v_0 \\): initial velocity\n",
    "- \\( \\theta \\): angle of projection (in radians)\n",
    "- \\( g \\): acceleration due to gravity (typically \\( 9.8 \\, \\text{m/s}^2 \\))\n",
    "- \\( t \\): time\n",
    "\n",
    "The horizontal and vertical positions of the projectile at time \\( t \\) are given by the following equations:\n",
    "\n",
    "1. **Horizontal Position** \\( x(t) \\):\n",
    "\n",
    "$$\n",
    "x(t) = v_0 \\cdot t \\cdot \\cos(\\theta)\n",
    "$$\n",
    "\n",
    "2. **Vertical Position** \\( y(t) \\):\n",
    "\n",
    "$$\n",
    "y(t) = v_0 \\cdot t \\cdot \\sin(\\theta) - \\frac{1}{2} g t^2\n",
    "$$\n"
   ]
  },
  {
   "cell_type": "code",
   "execution_count": 1,
   "metadata": {},
   "outputs": [],
   "source": [
    "import torch \n",
    "import torch.nn as nn\n",
    "import torch.nn.functional as F\n",
    "from torch.utils.data import Dataset, DataLoader\n",
    "import numpy as np\n",
    "import random"
   ]
  },
  {
   "cell_type": "code",
   "execution_count": 18,
   "metadata": {},
   "outputs": [],
   "source": [
    "class PINNv3(nn.Module):\n",
    "    def __init__(self, inp_size, out_size) -> None:\n",
    "        super().__init__()\n",
    "        self.layer1 = nn.Linear(inp_size, 128)\n",
    "        self.norm1 = nn.LayerNorm(128)\n",
    "        self.layer2 = nn.Linear(128, 64)\n",
    "        self.norm2 = nn.LayerNorm(64)\n",
    "        self.layer3 = nn.Linear(64, out_size)\n",
    "\n",
    "    def forward(self, x):\n",
    "        x = F.tanh(self.norm1(self.layer1(x)))\n",
    "        x = F.tanh(self.norm2(self.layer2(x)))\n",
    "\n",
    "        return self.layer3(x)"
   ]
  },
  {
   "cell_type": "code",
   "execution_count": 19,
   "metadata": {},
   "outputs": [],
   "source": [
    "def get_pos(v:float, theta:float, t:float):\n",
    "    \"\"\"This Return the (x,y) cord for the given projectile parameter.\n",
    "\n",
    "    Args:\n",
    "        v (float): velocity in m/s^2\n",
    "        theta (float): angle of  projectile in radian\n",
    "        t (float): time in second\n",
    "\n",
    "    Returns:\n",
    "        x, y\n",
    "    \"\"\"\n",
    "    x = v*np.cos(theta)*t\n",
    "    y = -0.5*9.8*t**2 + v*np.sin(theta)*t\n",
    "\n",
    "    return x, y"
   ]
  },
  {
   "cell_type": "code",
   "execution_count": 20,
   "metadata": {},
   "outputs": [],
   "source": [
    "SCALE_FACTOR = 100"
   ]
  },
  {
   "cell_type": "code",
   "execution_count": 21,
   "metadata": {},
   "outputs": [],
   "source": [
    "def get_sample_data():\n",
    "    \"\"\"Generate Sample Data\n",
    "\n",
    "    Returns:\n",
    "        [v0, theta, t] : input where v0 and t is scalled with a scale factor.\n",
    "        [x, y] : output are scalled with a scale factor.\n",
    "        [T] : time of flight\n",
    "\n",
    "    \"\"\"\n",
    "    g = 9.8\n",
    "    v0 = np.random.randint(1,110)\n",
    "    theta = np.random.randint(1,91)\n",
    "    theta = np.deg2rad(theta)\n",
    "    \n",
    "    T = 2*(v0*np.sin(theta)/g)\n",
    "    # print(T, v0, theta)\n",
    "    \n",
    "    if T>0.1:\n",
    "        t = np.random.uniform(0.1,T)\n",
    "    else:\n",
    "        t = T\n",
    "\n",
    "    x, y = get_pos(v0, theta, t)\n",
    "    # return torch.tensor([v0, theta, t], dtype=torch.float), torch.tensor([x,y], dtype=torch.float)\n",
    "    return [v0/SCALE_FACTOR, theta, t/SCALE_FACTOR], [x/SCALE_FACTOR,y/SCALE_FACTOR], [T]"
   ]
  },
  {
   "cell_type": "code",
   "execution_count": 22,
   "metadata": {},
   "outputs": [],
   "source": [
    "# inp = torch.tensor([X], dtype=torch.float)\n",
    "# inp\n",
    "SCALE_FACTOR = 100"
   ]
  },
  {
   "cell_type": "code",
   "execution_count": 23,
   "metadata": {},
   "outputs": [],
   "source": [
    "class ProjectileData(Dataset):\n",
    "    def __init__(self, data_size=1000):\n",
    "        # datata generation \n",
    "        X_train = []\n",
    "        Y_train = []\n",
    "        T = []\n",
    "        for _ in range(data_size):\n",
    "            x_t, y_t, t = get_sample_data()\n",
    "            X_train.append(x_t)\n",
    "            Y_train.append(y_t)\n",
    "            T.append(t)\n",
    "\n",
    "        self.X_train = torch.tensor(X_train, dtype=torch.float)\n",
    "        self.Y_train = torch.tensor(Y_train, dtype=torch.float)\n",
    "        self.T = torch.tensor(T, dtype=torch.float)\n",
    "    \n",
    "    def __len__(self):\n",
    "        return self.X_train.shape[0]\n",
    "    \n",
    "    def __getitem__(self, index):\n",
    "        # return self.X_train[index]/SCALE_FACTOR, self.Y_train[index]/SCALE_FACTOR, self.T[index]\n",
    "        return self.X_train[index], self.Y_train[index], self.T[index]"
   ]
  },
  {
   "cell_type": "code",
   "execution_count": 24,
   "metadata": {},
   "outputs": [],
   "source": [
    "dataset = ProjectileData(data_size=7680)"
   ]
  },
  {
   "cell_type": "code",
   "execution_count": 25,
   "metadata": {},
   "outputs": [
    {
     "data": {
      "text/plain": [
       "(tensor([0.8600, 0.5061, 0.0425]), tensor([3.2005, 0.8869]), tensor([8.5089]))"
      ]
     },
     "execution_count": 25,
     "metadata": {},
     "output_type": "execute_result"
    }
   ],
   "source": [
    "sample_inp, sample_out, T = dataset[3]\n",
    "sample_inp, sample_out, T "
   ]
  },
  {
   "cell_type": "code",
   "execution_count": 26,
   "metadata": {},
   "outputs": [
    {
     "data": {
      "text/plain": [
       "(tensor(3.2005), tensor(0.8869))"
      ]
     },
     "execution_count": 26,
     "metadata": {},
     "output_type": "execute_result"
    }
   ],
   "source": [
    "x, y = get_pos(sample_inp[0]*100, sample_inp[1], sample_inp[2]*100)\n",
    "x/SCALE_FACTOR, y/SCALE_FACTOR"
   ]
  },
  {
   "cell_type": "code",
   "execution_count": 27,
   "metadata": {},
   "outputs": [],
   "source": [
    "train_dataloader = DataLoader(dataset=dataset, batch_size=64, shuffle=True)"
   ]
  },
  {
   "cell_type": "code",
   "execution_count": 28,
   "metadata": {},
   "outputs": [
    {
     "data": {
      "text/plain": [
       "device(type='cuda')"
      ]
     },
     "execution_count": 28,
     "metadata": {},
     "output_type": "execute_result"
    }
   ],
   "source": [
    "device = torch.device(\"cuda\" if torch.cuda.is_available() else \"cpu\")\n",
    "device"
   ]
  },
  {
   "cell_type": "code",
   "execution_count": 29,
   "metadata": {},
   "outputs": [],
   "source": [
    "# next(iter(train_dataloader))"
   ]
  },
  {
   "cell_type": "code",
   "execution_count": 30,
   "metadata": {},
   "outputs": [
    {
     "data": {
      "text/plain": [
       "SmoothL1Loss()"
      ]
     },
     "execution_count": 30,
     "metadata": {},
     "output_type": "execute_result"
    }
   ],
   "source": [
    "model = PINNv3(3,2)\n",
    "optimizer = torch.optim.SGD(model.parameters(), lr=0.001)\n",
    "loss_fn = nn.SmoothL1Loss()\n",
    "# loss_fn = nn.MSELoss()\n",
    "\n",
    "\n",
    "model.to(device)\n",
    "loss_fn.to(device)"
   ]
  },
  {
   "cell_type": "code",
   "execution_count": 31,
   "metadata": {},
   "outputs": [
    {
     "name": "stdout",
     "output_type": "stream",
     "text": [
      "18|10000 LOSS:0.0867068545271953565\r"
     ]
    }
   ],
   "source": [
    "# training loop \n",
    "EPOCH = 10000\n",
    "history  = []\n",
    "\n",
    "for epoch in range(1, EPOCH+1):\n",
    "\n",
    "    # set model into training mode\n",
    "    \n",
    "    model.train()\n",
    "    running_loss = 0.0\n",
    "\n",
    "    for i, (inp, out, _) in  enumerate(train_dataloader):\n",
    "        optimizer.zero_grad()\n",
    "\n",
    "        # dataset data\n",
    "        x = inp.cuda()\n",
    "        y = out.cuda()\n",
    "\n",
    "        # forward pass and predict output\n",
    "        y_ = model(x)\n",
    "        # print(y_)\n",
    "\n",
    "        # calculate loss \n",
    "        loss  = loss_fn(y, y_).float()\n",
    "        \n",
    "        # backprop\n",
    "        loss.backward()\n",
    "        optimizer.step()\n",
    "        running_loss += loss.item()\n",
    "        \n",
    "        print(f\"{epoch}|{EPOCH} LOSS:{running_loss/len(train_dataloader)}\", end=\"\\r\")\n",
    "\n",
    "    \n",
    "    if epoch%100==0:\n",
    "        print(\"\\n\")\n",
    "        # mini validation\n",
    "        model.eval()\n",
    "        val_loss = 0.0\n",
    "        with torch.no_grad():\n",
    "            v, alpha, t = 99, 51 ,13\n",
    "            alpha = np.deg2rad(alpha)\n",
    "            print(\"Validation at\", epoch)\n",
    "            validation_sample = torch.tensor([v/SCALE_FACTOR, alpha, t/SCALE_FACTOR], dtype=torch.float)\n",
    "            pred_y = model(validation_sample.to(device))*SCALE_FACTOR\n",
    "            val_y = get_pos(v=v, theta=alpha, t=t)\n",
    "            print(\"Input\", v, np.rad2deg(alpha), t, \" Output\", pred_y, \" Truth\", val_y)\n",
    "        \n",
    "        # print(f\"\\n\")\n",
    "\n",
    "    history.append(running_loss/len(train_dataloader))\n"
   ]
  },
  {
   "cell_type": "code",
   "execution_count": 25,
   "metadata": {},
   "outputs": [],
   "source": [
    "import matplotlib.pyplot as plt"
   ]
  },
  {
   "cell_type": "code",
   "execution_count": 26,
   "metadata": {},
   "outputs": [
    {
     "data": {
      "text/plain": [
       "[<matplotlib.lines.Line2D at 0x7f21361e8d30>]"
      ]
     },
     "execution_count": 26,
     "metadata": {},
     "output_type": "execute_result"
    },
    {
     "data": {
      "image/png": "[encoded data removed]",
      "text/plain": [
       "<Figure size 640x480 with 1 Axes>"
      ]
     },
     "metadata": {},
     "output_type": "display_data"
    }
   ],
   "source": [
    "plt.plot(history)"
   ]
  },
  {
   "cell_type": "code",
   "execution_count": 18,
   "metadata": {},
   "outputs": [
    {
     "data": {
      "text/plain": [
       "0.0012403730851171227"
      ]
     },
     "execution_count": 18,
     "metadata": {},
     "output_type": "execute_result"
    }
   ],
   "source": [
    "history[-1]"
   ]
  },
  {
   "cell_type": "code",
   "execution_count": 28,
   "metadata": {},
   "outputs": [
    {
     "name": "stdout",
     "output_type": "stream",
     "text": [
      "Input tensor([0.3000, 1.3963, 0.0200]) \n",
      "Output tensor([ 9.3660, 40.8383], device='cuda:0') \n",
      "Truth (10.418890660015824, 39.48846518073248)\n"
     ]
    }
   ],
   "source": [
    "model.eval()\n",
    "\n",
    "with torch.no_grad():\n",
    "\n",
    "    v, alpha, t = 30, 80, 2\n",
    "    alpha= np.deg2rad(alpha)\n",
    "    validation_sample = torch.tensor([v/100, alpha, t/100], dtype=torch.float)\n",
    "    pred_y = model(validation_sample.to(device))*SCALE_FACTOR\n",
    "    val_y = get_pos(v, alpha, t)\n",
    "    print(\"Input\", validation_sample, \"\\nOutput\", pred_y, \"\\nTruth\", val_y)"
   ]
  },
  {
   "cell_type": "code",
   "execution_count": 21,
   "metadata": {},
   "outputs": [],
   "source": [
    "import time"
   ]
  },
  {
   "cell_type": "code",
   "execution_count": 22,
   "metadata": {},
   "outputs": [],
   "source": [
    "torch.save(model.state_dict(), f\"checkpoint/{model._get_name()}_model_ep{EPOCH}_{int(time.time())}.pt\")"
   ]
  },
  {
   "cell_type": "code",
   "execution_count": null,
   "metadata": {},
   "outputs": [],
   "source": []
  }
 ],
 "metadata": {
  "kernelspec": {
   "display_name": "drl",
   "language": "python",
   "name": "python3"
  },
  "language_info": {
   "codemirror_mode": {
    "name": "ipython",
    "version": 3
   },
   "file_extension": ".py",
   "mimetype": "text/x-python",
   "name": "python",
   "nbconvert_exporter": "python",
   "pygments_lexer": "ipython3",
   "version": "3.10.13"
  }
 },
 "nbformat": 4,
 "nbformat_minor": 2
}
